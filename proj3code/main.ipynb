{
 "cells": [
  {
   "cell_type": "code",
   "execution_count": 1,
   "metadata": {},
   "outputs": [
    {
     "name": "stderr",
     "output_type": "stream",
     "text": [
      "Using TensorFlow backend.\n",
      "/Users/sanidhya/Anaconda/anaconda3/lib/python3.7/site-packages/sklearn/utils/linear_assignment_.py:21: DeprecationWarning: The linear_assignment_ module is deprecated in 0.21 and will be removed from 0.23. Use scipy.optimize.linear_sum_assignment instead.\n",
      "  DeprecationWarning)\n"
     ]
    }
   ],
   "source": [
    "import tensorflow as tf\n",
    "from sklearn.cluster import KMeans\n",
    "import numpy as np\n",
    "from sklearn.metrics import confusion_matrix\n",
    "import keras\n",
    "from keras.models import Model\n",
    "from keras.optimizers import RMSprop\n",
    "from keras.layers import Input,Dense,Flatten,Dropout,merge,Reshape,Conv2D,MaxPool2D,UpSampling2D,Conv2DTranspose\n",
    "from keras.layers.normalization import BatchNormalization\n",
    "from keras.models import Model,Sequential\n",
    "from keras.callbacks import ModelCheckpoint\n",
    "from keras.optimizers import Adadelta, RMSprop,SGD,Adam\n",
    "from keras import regularizers\n",
    "from keras import backend as K\n",
    "from keras.utils import to_categorical\n",
    "from coclust.evaluation.external import accuracy\n",
    "from sklearn import mixture\n",
    "import matplotlib.pyplot as plt"
   ]
  },
  {
   "cell_type": "code",
   "execution_count": 2,
   "metadata": {},
   "outputs": [],
   "source": [
    "(x_train, y_train), (x_test, y_test) = tf.keras.datasets.fashion_mnist.load_data()"
   ]
  },
  {
   "cell_type": "code",
   "execution_count": null,
   "metadata": {},
   "outputs": [],
   "source": [
    "x_train1 = x_train.reshape(len(x_train),-1)\n",
    "x_test1 = x_test.reshape(len(x_test),-1)\n",
    "\n",
    "x_train1 = x_train1.astype(float) / 255\n",
    "x_test1 = x_test1.astype(float) / 255"
   ]
  },
  {
   "cell_type": "code",
   "execution_count": null,
   "metadata": {},
   "outputs": [],
   "source": [
    "kmeans = KMeans(init = \"random\", n_clusters=10,random_state=5, max_iter = 27)\n",
    "kmeans.fit(x_train1)\n",
    "y_pred1 = kmeans.predict(x_test1)"
   ]
  },
  {
   "cell_type": "code",
   "execution_count": null,
   "metadata": {},
   "outputs": [],
   "source": [
    "cm = confusion_matrix(y_test, y_pred1)\n",
    "print(cm)"
   ]
  },
  {
   "cell_type": "code",
   "execution_count": null,
   "metadata": {},
   "outputs": [],
   "source": [
    "accuracy(y_test, y_pred1)"
   ]
  },
  {
   "cell_type": "code",
   "execution_count": null,
   "metadata": {},
   "outputs": [],
   "source": [
    "#Part 2: Auto-Encoder with KMeans clustering"
   ]
  },
  {
   "cell_type": "code",
   "execution_count": 3,
   "metadata": {},
   "outputs": [],
   "source": [
    "x_train2 = x_train.reshape(-1, 28,28, 1)\n",
    "x_test2 = x_test.reshape(-1, 28,28, 1)\n",
    "\n",
    "x_train2 = x_train2.astype(float) / 255\n",
    "x_test2 = x_test2.astype(float) / 255"
   ]
  },
  {
   "cell_type": "code",
   "execution_count": 4,
   "metadata": {},
   "outputs": [
    {
     "name": "stdout",
     "output_type": "stream",
     "text": [
      "Model: \"sequential_1\"\n",
      "_________________________________________________________________\n",
      "Layer (type)                 Output Shape              Param #   \n",
      "=================================================================\n",
      "conv2d_1 (Conv2D)            (None, 28, 28, 14)        140       \n",
      "_________________________________________________________________\n",
      "max_pooling2d_1 (MaxPooling2 (None, 14, 14, 14)        0         \n",
      "_________________________________________________________________\n",
      "dropout_1 (Dropout)          (None, 14, 14, 14)        0         \n",
      "_________________________________________________________________\n",
      "conv2d_2 (Conv2D)            (None, 14, 14, 7)         889       \n",
      "_________________________________________________________________\n",
      "max_pooling2d_2 (MaxPooling2 (None, 7, 7, 7)           0         \n",
      "_________________________________________________________________\n",
      "dropout_2 (Dropout)          (None, 7, 7, 7)           0         \n",
      "_________________________________________________________________\n",
      "conv2d_3 (Conv2D)            (None, 7, 7, 7)           448       \n",
      "_________________________________________________________________\n",
      "up_sampling2d_1 (UpSampling2 (None, 14, 14, 7)         0         \n",
      "_________________________________________________________________\n",
      "dropout_3 (Dropout)          (None, 14, 14, 7)         0         \n",
      "_________________________________________________________________\n",
      "conv2d_4 (Conv2D)            (None, 14, 14, 14)        896       \n",
      "_________________________________________________________________\n",
      "up_sampling2d_2 (UpSampling2 (None, 28, 28, 14)        0         \n",
      "_________________________________________________________________\n",
      "dropout_4 (Dropout)          (None, 28, 28, 14)        0         \n",
      "_________________________________________________________________\n",
      "conv2d_5 (Conv2D)            (None, 28, 28, 1)         127       \n",
      "=================================================================\n",
      "Total params: 2,500\n",
      "Trainable params: 2,500\n",
      "Non-trainable params: 0\n",
      "_________________________________________________________________\n"
     ]
    }
   ],
   "source": [
    "model = Sequential()\n",
    "model.add(Conv2D(14, kernel_size=3, padding='same', activation='relu', input_shape=(28,28,1)))\n",
    "model.add(MaxPool2D((2,2), padding='same'))\n",
    "model.add(Dropout(0.2))\n",
    "model.add(Conv2D(7, kernel_size=3, padding='same', activation='relu'))\n",
    "model.add(MaxPool2D((2,2), padding='same'))\n",
    "model.add(Dropout(0.2))\n",
    "\n",
    "model.add(Conv2D(7, kernel_size=3, padding='same', activation='relu'))\n",
    "model.add(UpSampling2D((2,2)))\n",
    "model.add(Dropout(0.2))\n",
    "model.add(Conv2D(14, kernel_size=3, padding='same', activation='relu'))\n",
    "model.add(UpSampling2D((2,2)))\n",
    "model.add(Dropout(0.2))\n",
    "model.add(Conv2D(1, kernel_size=3, padding='same', activation='relu'))\n",
    "\n",
    "model.compile(optimizer='sgd', loss=\"mse\")\n",
    "model.summary()"
   ]
  },
  {
   "cell_type": "code",
   "execution_count": 5,
   "metadata": {},
   "outputs": [
    {
     "name": "stdout",
     "output_type": "stream",
     "text": [
      "Train on 60000 samples, validate on 10000 samples\n",
      "Epoch 1/10\n",
      "60000/60000 [==============================] - 32s 528us/step - loss: 0.1007 - val_loss: 0.0653\n",
      "Epoch 2/10\n",
      "60000/60000 [==============================] - 32s 530us/step - loss: 0.0585 - val_loss: 0.0616\n",
      "Epoch 3/10\n",
      "60000/60000 [==============================] - 32s 538us/step - loss: 0.0540 - val_loss: 0.0599\n",
      "Epoch 4/10\n",
      "60000/60000 [==============================] - 32s 540us/step - loss: 0.0518 - val_loss: 0.0589\n",
      "Epoch 5/10\n",
      "60000/60000 [==============================] - 32s 539us/step - loss: 0.0501 - val_loss: 0.0568\n",
      "Epoch 6/10\n",
      "60000/60000 [==============================] - 33s 554us/step - loss: 0.0487 - val_loss: 0.0560\n",
      "Epoch 7/10\n",
      "60000/60000 [==============================] - 33s 546us/step - loss: 0.0477 - val_loss: 0.0535\n",
      "Epoch 8/10\n",
      "60000/60000 [==============================] - 33s 554us/step - loss: 0.0468 - val_loss: 0.0525\n",
      "Epoch 9/10\n",
      "60000/60000 [==============================] - 33s 554us/step - loss: 0.0461 - val_loss: 0.0509\n",
      "Epoch 10/10\n",
      "60000/60000 [==============================] - 33s 553us/step - loss: 0.0453 - val_loss: 0.0498\n"
     ]
    }
   ],
   "source": [
    "epochs = 10\n",
    "graph = model.fit(x_train2, x_train2, epochs=10, batch_size=256, validation_data=(x_test2, x_test2), verbose=1)"
   ]
  },
  {
   "cell_type": "code",
   "execution_count": 6,
   "metadata": {},
   "outputs": [],
   "source": [
    "restored_testing_dataset = model.predict(x_test2)\n",
    "encoder = K.function([model.layers[0].input], [model.layers[4].output])\n",
    "encoded_images = encoder([x_test2])[0].reshape(-1,7*7*7)"
   ]
  },
  {
   "cell_type": "code",
   "execution_count": 7,
   "metadata": {},
   "outputs": [],
   "source": [
    "kmeans = KMeans(n_clusters=10, max_iter = 29, init = \"random\", random_state=5)\n",
    "clustered_training_set = kmeans.fit_predict(encoded_images)"
   ]
  },
  {
   "cell_type": "code",
   "execution_count": 8,
   "metadata": {},
   "outputs": [
    {
     "name": "stderr",
     "output_type": "stream",
     "text": [
      "/Users/sanidhya/Anaconda/anaconda3/lib/python3.7/site-packages/sklearn/utils/linear_assignment_.py:127: DeprecationWarning: The linear_assignment function is deprecated in 0.21 and will be removed from 0.23. Use scipy.optimize.linear_sum_assignment instead.\n",
      "  DeprecationWarning)\n"
     ]
    },
    {
     "data": {
      "text/plain": [
       "0.5446"
      ]
     },
     "execution_count": 8,
     "metadata": {},
     "output_type": "execute_result"
    }
   ],
   "source": [
    "from coclust.evaluation.external import accuracy\n",
    "\n",
    "accuracy(y_test, clustered_training_set)"
   ]
  },
  {
   "cell_type": "code",
   "execution_count": 9,
   "metadata": {},
   "outputs": [
    {
     "name": "stdout",
     "output_type": "stream",
     "text": [
      "[[538   3   1   0  41  73   6  29 104 205]\n",
      " [  2   0   0   0  10  13   1 843 119  12]\n",
      " [  7   3   0   0 577  53   3   5  27 325]\n",
      " [ 13   2   0   0  14  70   2 451 387  61]\n",
      " [  1   6   0   0 645  39   2  18 163 126]\n",
      " [  0   2 275 122   0 596   1   1   0   3]\n",
      " [ 99   1   0   0 336 107  15  21 109 312]\n",
      " [  0   0 880  35   0  85   0   0   0   0]\n",
      " [  1 416  32   1  65  73 395   5   3   9]\n",
      " [  0   2 157 801   2  31   1   1   4   1]]\n"
     ]
    }
   ],
   "source": [
    "cm = confusion_matrix(y_test, clustered_training_set)\n",
    "print(cm)"
   ]
  },
  {
   "cell_type": "code",
   "execution_count": 11,
   "metadata": {},
   "outputs": [
    {
     "data": {
      "image/png": "[encoded data removed]",
      "text/plain": [
       "<Figure size 432x288 with 1 Axes>"
      ]
     },
     "metadata": {
      "needs_background": "light"
     },
     "output_type": "display_data"
    }
   ],
   "source": [
    "epoch=range(1,epochs+1)\n",
    "plt.plot(epoch,graph.history['loss'])\n",
    "plt.plot(epoch,graph.history['val_loss'])\n",
    "plt.xticks(epoch, rotation ='horizontal')\n",
    "plt.title('Auto encoder loss when training')\n",
    "plt.ylabel('Training loss')\n",
    "plt.xlabel('Epochs')\n",
    "plt.show()"
   ]
  },
  {
   "cell_type": "code",
   "execution_count": null,
   "metadata": {},
   "outputs": [],
   "source": [
    "#Part 3: Auto-Encoder with GMM Clustering"
   ]
  },
  {
   "cell_type": "code",
   "execution_count": null,
   "metadata": {},
   "outputs": [],
   "source": [
    "gmm = mixture.GaussianMixture(n_components = 10, max_iter = 28)\n",
    "clustered_training_set = gmm.fit_predict(encoded_images)\n",
    "cm = confusion_matrix(y_test, clustered_training_set)\n",
    "print(cm)"
   ]
  },
  {
   "cell_type": "code",
   "execution_count": null,
   "metadata": {
    "scrolled": true
   },
   "outputs": [],
   "source": [
    "from coclust.evaluation.external import accuracy\n",
    "\n",
    "accuracy(y_test, clustered_training_set)"
   ]
  },
  {
   "cell_type": "code",
   "execution_count": null,
   "metadata": {},
   "outputs": [],
   "source": []
  },
  {
   "cell_type": "code",
   "execution_count": null,
   "metadata": {},
   "outputs": [],
   "source": []
  }
 ],
 "metadata": {
  "kernelspec": {
   "display_name": "Python 3",
   "language": "python",
   "name": "python3"
  },
  "language_info": {
   "codemirror_mode": {
    "name": "ipython",
    "version": 3
   },
   "file_extension": ".py",
   "mimetype": "text/x-python",
   "name": "python",
   "nbconvert_exporter": "python",
   "pygments_lexer": "ipython3",
   "version": "3.7.4"
  }
 },
 "nbformat": 4,
 "nbformat_minor": 2
}
